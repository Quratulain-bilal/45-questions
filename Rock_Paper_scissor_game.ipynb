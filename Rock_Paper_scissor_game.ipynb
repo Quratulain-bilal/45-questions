{
  "nbformat": 4,
  "nbformat_minor": 0,
  "metadata": {
    "colab": {
      "provenance": [],
      "authorship_tag": "ABX9TyP0LNJvhKtFwt6HUrCdH+24",
      "include_colab_link": true
    },
    "kernelspec": {
      "name": "python3",
      "display_name": "Python 3"
    },
    "language_info": {
      "name": "python"
    }
  },
  "cells": [
    {
      "cell_type": "markdown",
      "metadata": {
        "id": "view-in-github",
        "colab_type": "text"
      },
      "source": [
        "<a href=\"https://colab.research.google.com/github/Quratulain-bilal/45-questions/blob/main/Rock_Paper_scissor_game.ipynb\" target=\"_parent\"><img src=\"https://colab.research.google.com/assets/colab-badge.svg\" alt=\"Open In Colab\"/></a>"
      ]
    },
    {
      "cell_type": "markdown",
      "source": [
        "**Rock-Paper-Scissors Game**"
      ],
      "metadata": {
        "id": "PSML-q9Tw2rP"
      }
    },
    {
      "cell_type": "code",
      "source": [
        "from google.colab import drive"
      ],
      "metadata": {
        "id": "BfWXkbu-yXUY"
      },
      "execution_count": null,
      "outputs": []
    },
    {
      "cell_type": "code",
      "source": [
        "drive.mount('/content/drive')"
      ],
      "metadata": {
        "id": "xFs2gd5Aygyf"
      },
      "execution_count": null,
      "outputs": []
    },
    {
      "cell_type": "code",
      "source": [
        "import random\n",
        "\n",
        "# Function to determine the winner\n",
        "def is_win(player, opponent):\n",
        "    \"\"\"\n",
        "    Return True if the player wins against the opponent.\n",
        "    Rules: Rock (r) beats Scissors (s), Scissors (s) beats Paper (p), Paper (p) beats Rock (r)\n",
        "    \"\"\"\n",
        "    return (player == 'r' and opponent == 's') or \\\n",
        "           (player == 's' and opponent == 'p') or \\\n",
        "           (player == 'p' and opponent == 'r')\n",
        "\n",
        "# Function to display rules and choices\n",
        "def display_rules():\n",
        "    print(\"\\nWelcome to Rock-Paper-Scissors!\")\n",
        "    print(\"Rules:\")\n",
        "    print(\"- Rock (r) beats Scissors (s)\")\n",
        "    print(\"- Scissors (s) beats Paper (p)\")\n",
        "    print(\"- Paper (p) beats Rock (r)\\n\")\n",
        "\n",
        "# Function to get valid user input\n",
        "def get_user_choice():\n",
        "    choices = {'r': 'Rock', 'p': 'Paper', 's': 'Scissors'}\n",
        "    while True:\n",
        "        user = input(\"What's your choice? 'r' for Rock, 'p' for Paper, 's' for Scissors: \").lower().strip()\n",
        "        if user in choices:\n",
        "            return user\n",
        "        print(\"Invalid choice! Please choose 'r', 'p', or 's'.\")\n",
        "\n",
        "# Function to play one round of the game\n",
        "def play_round():\n",
        "    # Mapping shorthand to full names for display\n",
        "    choices = {'r': 'Rock', 'p': 'Paper', 's': 'Scissors'}\n",
        "\n",
        "    # Get user and computer choices\n",
        "    user = get_user_choice()\n",
        "    computer = random.choice(list(choices.keys()))\n",
        "    print(f\"\\nYou chose {choices[user]}.\")\n",
        "    print(f\"Computer chose {choices[computer]}.\")\n",
        "\n",
        "    # Determine the result\n",
        "    if user == computer:\n",
        "        return \"It's a tie!\", 0\n",
        "    elif is_win(user, computer):\n",
        "        return \"You won!\", 1\n",
        "    else:\n",
        "        return \"You lost!\", -1\n",
        "\n",
        "# Main function to manage the game loop\n",
        "def main():\n",
        "    display_rules()\n",
        "    user_score = 0\n",
        "    computer_score = 0\n",
        "\n",
        "    while True:\n",
        "        result, score = play_round()\n",
        "        print(result)\n",
        "\n",
        "        # Update scores\n",
        "        if score == 1:\n",
        "            user_score += 1\n",
        "        elif score == -1:\n",
        "            computer_score += 1\n",
        "\n",
        "        # Display current scores\n",
        "        print(f\"\\nCurrent Scores: You - {user_score}, Computer - {computer_score}\")\n",
        "\n",
        "        # Ask if the user wants to play again\n",
        "        play_again = input(\"\\nDo you want to play again? (y/n): \").lower().strip()\n",
        "        if play_again != 'y':\n",
        "            print(\"\\nFinal Scores:\")\n",
        "            print(f\"You: {user_score}\")\n",
        "            print(f\"Computer: {computer_score}\")\n",
        "            print(\"Thanks for playing! Goodbye!\")\n",
        "            break\n",
        "\n",
        "# Entry point of the program\n",
        "if __name__ == '__main__':\n",
        "    main()\n"
      ],
      "metadata": {
        "colab": {
          "base_uri": "https://localhost:8080/"
        },
        "id": "3U4cMyIsyzWn",
        "outputId": "e93433c6-de73-4a0f-b10c-426a86f7f52f"
      },
      "execution_count": null,
      "outputs": [
        {
          "output_type": "stream",
          "name": "stdout",
          "text": [
            "\n",
            "Welcome to Rock-Paper-Scissors!\n",
            "Rules:\n",
            "- Rock (r) beats Scissors (s)\n",
            "- Scissors (s) beats Paper (p)\n",
            "- Paper (p) beats Rock (r)\n",
            "\n",
            "What's your choice? 'r' for Rock, 'p' for Paper, 's' for Scissors: r\n",
            "\n",
            "You chose Rock.\n",
            "Computer chose Rock.\n",
            "It's a tie!\n",
            "\n",
            "Current Scores: You - 0, Computer - 0\n",
            "\n",
            "Do you want to play again? (y/n): s\n",
            "\n",
            "Final Scores:\n",
            "You: 0\n",
            "Computer: 0\n",
            "Thanks for playing! Goodbye!\n"
          ]
        }
      ]
    }
  ]
}